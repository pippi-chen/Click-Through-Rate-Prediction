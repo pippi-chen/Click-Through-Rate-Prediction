{
 "cells": [
  {
   "cell_type": "code",
   "execution_count": 1,
   "id": "68c5ced3",
   "metadata": {},
   "outputs": [],
   "source": [
    "import numpy as np\n",
    "import pandas as pd\n",
    "import matplotlib.pyplot as plt\n",
    "from sklearn.model_selection import train_test_split"
   ]
  },
  {
   "cell_type": "code",
   "execution_count": 2,
   "id": "b399f094",
   "metadata": {},
   "outputs": [],
   "source": [
    "#Read data\n",
    "df_all = pd.read_csv(\"train.csv\")"
   ]
  },
  {
   "cell_type": "code",
   "execution_count": 651,
   "id": "34fd97bb",
   "metadata": {},
   "outputs": [
    {
     "data": {
      "text/plain": [
       "\"\\n#Data size\\ndf_all.count()['id']\\n\""
      ]
     },
     "execution_count": 651,
     "metadata": {},
     "output_type": "execute_result"
    }
   ],
   "source": [
    "#Data size\n",
    "df_all.count()['id']"
   ]
  },
  {
   "cell_type": "code",
   "execution_count": 652,
   "id": "02b2d1ca",
   "metadata": {},
   "outputs": [
    {
     "data": {
      "text/plain": [
       "\"\\n#Data size with click=1\\ndf_all[df_all.click == 1].count()['id']\\n\""
      ]
     },
     "execution_count": 652,
     "metadata": {},
     "output_type": "execute_result"
    }
   ],
   "source": [
    "#Data size with click=1\n",
    "df_all[df_all.click == 1].count()['id']"
   ]
  },
  {
   "cell_type": "markdown",
   "id": "3889342e",
   "metadata": {},
   "source": [
    "Preprocessing"
   ]
  },
  {
   "cell_type": "code",
   "execution_count": 3,
   "id": "7984e268",
   "metadata": {},
   "outputs": [],
   "source": [
    "#Down sampling\n",
    "df_0 = df_all[df_all.click == 0].sample(n=6865066, random_state=123)"
   ]
  },
  {
   "cell_type": "code",
   "execution_count": 4,
   "id": "f3041129",
   "metadata": {},
   "outputs": [],
   "source": [
    "#Get the balanced dataset\n",
    "df_down = pd.concat([df_0, df_all[df_all.click == 1]])"
   ]
  },
  {
   "cell_type": "code",
   "execution_count": 6,
   "id": "5768f9e2",
   "metadata": {},
   "outputs": [],
   "source": [
    "#Partition the data into train and test\n",
    "X_train, X_test, y_train, y_test = train_test_split(df_down.drop('click', axis=1), df_down['click'], test_size=0.2, random_state=123)\n",
    "df_train = pd.concat([y_train, X_train], axis=1)\n",
    "df_test = pd.concat([y_test, X_test], axis=1)"
   ]
  },
  {
   "cell_type": "code",
   "execution_count": 41,
   "id": "5e429c22",
   "metadata": {},
   "outputs": [],
   "source": [
    "#Random subset a sample from train or test data \n",
    "#df = df_train.sample(n=100000, random_state=5)\n",
    "df = df_test.sample(n=100000, random_state=2) "
   ]
  },
  {
   "cell_type": "code",
   "execution_count": 21,
   "id": "6f70f3b9",
   "metadata": {},
   "outputs": [
    {
     "name": "stdout",
     "output_type": "stream",
     "text": [
      "<class 'pandas.core.frame.DataFrame'>\n",
      "Int64Index: 100000 entries, 8768124 to 40339515\n",
      "Data columns (total 22 columns):\n",
      " #   Column            Non-Null Count   Dtype \n",
      "---  ------            --------------   ----- \n",
      " 0   click             100000 non-null  int64 \n",
      " 1   hour              100000 non-null  object\n",
      " 2   C1                100000 non-null  object\n",
      " 3   banner_pos        100000 non-null  object\n",
      " 4   site_id           100000 non-null  object\n",
      " 5   site_domain       100000 non-null  object\n",
      " 6   site_category     100000 non-null  object\n",
      " 7   app_id            100000 non-null  object\n",
      " 8   app_domain        100000 non-null  object\n",
      " 9   app_category      100000 non-null  object\n",
      " 10  device_model      100000 non-null  object\n",
      " 11  device_type       100000 non-null  object\n",
      " 12  device_conn_type  100000 non-null  object\n",
      " 13  C14               100000 non-null  object\n",
      " 14  C15               100000 non-null  object\n",
      " 15  C16               100000 non-null  object\n",
      " 16  C17               100000 non-null  object\n",
      " 17  C18               100000 non-null  object\n",
      " 18  C19               100000 non-null  object\n",
      " 19  C20               100000 non-null  object\n",
      " 20  C21               100000 non-null  object\n",
      " 21  weekday           100000 non-null  object\n",
      "dtypes: int64(1), object(21)\n",
      "memory usage: 17.5+ MB\n"
     ]
    }
   ],
   "source": [
    "#Check feature type\n",
    "df.info()"
   ]
  },
  {
   "cell_type": "code",
   "execution_count": 658,
   "id": "364cb170",
   "metadata": {},
   "outputs": [
    {
     "data": {
      "text/plain": [
       "'\\n#Check null values (if dataset is too large and can not check by info method)\\nfor col in df.columns:\\n    print(df[df[col].isna()==True][col])\\n'"
      ]
     },
     "execution_count": 658,
     "metadata": {},
     "output_type": "execute_result"
    }
   ],
   "source": [
    "#Check null values (if dataset is too large and can not check by info method)\n",
    "for col in df.columns:\n",
    "    print(df[df[col].isna()==True][col])"
   ]
  },
  {
   "cell_type": "code",
   "execution_count": 659,
   "id": "43e8a5b4",
   "metadata": {},
   "outputs": [
    {
     "data": {
      "text/plain": [
       "'\\n#How many unique values for each feature\\nfor col in df.columns:\\n    print(col, df[col].nunique())\\n'"
      ]
     },
     "execution_count": 659,
     "metadata": {},
     "output_type": "execute_result"
    }
   ],
   "source": [
    "#How many unique values for each feature\n",
    "for col in df.columns:\n",
    "    print(col, df[col].nunique())"
   ]
  },
  {
   "cell_type": "code",
   "execution_count": 42,
   "id": "5281931a",
   "metadata": {},
   "outputs": [],
   "source": [
    "#Drop unuseful feature (All or most unique categories)\n",
    "df.drop('id', inplace=True, axis=1)\n",
    "df.drop('device_id', inplace=True, axis=1)\n",
    "df.drop('device_ip', inplace=True, axis=1)"
   ]
  },
  {
   "cell_type": "code",
   "execution_count": 30,
   "id": "140fa61f",
   "metadata": {},
   "outputs": [],
   "source": [
    "#Function for generating date from feature hour\n",
    "def get_date(hour):\n",
    "    y = '20' + str(hour)[:2]\n",
    "    m = str(hour)[2:4]\n",
    "    d = str(hour)[4:6]\n",
    "    return y + '-' + m + '-' + d"
   ]
  },
  {
   "cell_type": "code",
   "execution_count": 43,
   "id": "8e9efb8c",
   "metadata": {},
   "outputs": [],
   "source": [
    "#Create new feature weekday\n",
    "df['weekday'] = pd.to_datetime(df.hour.apply(get_date)).dt.dayofweek.astype(str)"
   ]
  },
  {
   "cell_type": "code",
   "execution_count": 661,
   "id": "bbf80249",
   "metadata": {},
   "outputs": [],
   "source": [
    "#Function for mapping time series data (By different days)\n",
    "def hour_imputer(hour):\n",
    "    if hour < 14102200:\n",
    "        return hour-14102100+1\n",
    "    elif hour < 14102300:\n",
    "        return hour-14102200+1+24*1\n",
    "    elif hour < 14102400:\n",
    "        return hour-14102300+1+24*2\n",
    "    elif hour < 14102500:\n",
    "        return hour-14102400+1+24*3\n",
    "    elif hour < 14102600:\n",
    "        return hour-14102500+1+24*4\n",
    "    elif hour < 14102700:\n",
    "        return hour-14102600+1+24*5\n",
    "    elif hour < 14102800:\n",
    "        return hour-14102700+1+24*6\n",
    "    elif hour < 14102900:\n",
    "        return hour-14102800+1+24*7\n",
    "    elif hour < 14103000:\n",
    "        return hour-14102900+1+24*8\n",
    "    else:\n",
    "        return hour-14103000+1+24*9"
   ]
  },
  {
   "cell_type": "code",
   "execution_count": 32,
   "id": "c38ff111",
   "metadata": {},
   "outputs": [],
   "source": [
    "#Function for mapping time series data (By daytime intervals)\n",
    "def hour_imputer2(hour):\n",
    "    if str(hour)[-2:] == '00' or str(hour)[-2:] == '01':\n",
    "        return '00-01'\n",
    "    elif str(hour)[-2:] == '02' or str(hour)[-2:] == '03':\n",
    "        return '02-03'\n",
    "    elif str(hour)[-2:] == '04' or str(hour)[-2:] == '05':\n",
    "        return '04-05'\n",
    "    elif str(hour)[-2:] == '06' or str(hour)[-2:] == '07':\n",
    "        return '06-07'\n",
    "    elif str(hour)[-2:] == '08' or str(hour)[-2:] == '09':\n",
    "        return '08-09'\n",
    "    elif str(hour)[-2:] == '10' or str(hour)[-2:] == '11':\n",
    "        return '10-11'\n",
    "    elif str(hour)[-2:] == '12' or str(hour)[-2:] == '13':\n",
    "        return '12-13'\n",
    "    elif str(hour)[-2:] == '14' or str(hour)[-2:] == '15':\n",
    "        return '14-15'\n",
    "    elif str(hour)[-2:] == '16' or str(hour)[-2:] == '17':\n",
    "        return '16-17'\n",
    "    elif str(hour)[-2:] == '18' or str(hour)[-2:] == '19':\n",
    "        return '18-19'\n",
    "    elif str(hour)[-2:] == '20' or str(hour)[-2:] == '21':\n",
    "        return '20-21'\n",
    "    else:\n",
    "        return '22-23'"
   ]
  },
  {
   "cell_type": "code",
   "execution_count": 44,
   "id": "22ef6617",
   "metadata": {},
   "outputs": [],
   "source": [
    "#Map time series data\n",
    "df['hour'] = df['hour'].apply(hour_imputer2)"
   ]
  },
  {
   "cell_type": "code",
   "execution_count": 45,
   "id": "4d9aac28",
   "metadata": {},
   "outputs": [],
   "source": [
    "#Convert categorical data to correct type\n",
    "cat_list = ['C1', 'banner_pos', 'site_id', 'site_domain',\n",
    "       'site_category', 'app_id', 'app_domain', 'app_category', \n",
    "       'device_model', 'device_type', 'device_conn_type', 'C14',\n",
    "       'C15', 'C16', 'C17', 'C18', 'C19', 'C20', 'C21']\n",
    "for col in cat_list:\n",
    "    df[col]= df[col].astype(str, copy=False)"
   ]
  },
  {
   "cell_type": "code",
   "execution_count": 15,
   "id": "23f1a810",
   "metadata": {},
   "outputs": [
    {
     "name": "stdout",
     "output_type": "stream",
     "text": [
      "1\n",
      "2\n",
      "3\n",
      "4\n",
      "5\n",
      "6\n",
      "7\n",
      "8\n",
      "9\n",
      "10\n",
      "11\n",
      "12\n"
     ]
    }
   ],
   "source": [
    "#Get the mean click rate for each category for features with too many categories \n",
    "df_site_id = df_all[['site_id', 'click']].groupby('site_id').mean()['click']\n",
    "print(1)\n",
    "df_site_domain = df_all[['site_domain', 'click']].groupby('site_domain').mean()['click']\n",
    "print(2)\n",
    "df_app_id = df_all[['app_id', 'click']].groupby('app_id').mean()['click']\n",
    "print(3)\n",
    "df_app_domain = df_all[['app_domain', 'click']].groupby('app_domain').mean()['click']\n",
    "print(4)\n",
    "df_site_category = df_all[['site_category', 'click']].groupby('site_category').mean()['click']\n",
    "print(5)\n",
    "df_app_category = df_all[['app_category', 'click']].groupby('app_category').mean()['click']\n",
    "print(6)\n",
    "df_device_model = df_all[['device_model', 'click']].groupby('device_model').mean()['click']\n",
    "print(7)\n",
    "df_C14 = df_all[['C14', 'click']].groupby('C14').mean()['click']\n",
    "print(8)\n",
    "df_C17 = df_all[['C17', 'click']].groupby('C17').mean()['click']\n",
    "print(9)\n",
    "df_C19 = df_all[['C19', 'click']].groupby('C19').mean()['click']\n",
    "print(10)\n",
    "df_C20 = df_all[['C20', 'click']].groupby('C20').mean()['click']\n",
    "print(11)\n",
    "df_C21 = df_all[['C21', 'click']].groupby('C21').mean()['click']\n",
    "print(12)"
   ]
  },
  {
   "cell_type": "code",
   "execution_count": 16,
   "id": "32ecea9b",
   "metadata": {},
   "outputs": [],
   "source": [
    "#Get the overall click rate\n",
    "df_mean = df_all['click'].mean()"
   ]
  },
  {
   "cell_type": "code",
   "execution_count": 17,
   "id": "a0c05af7",
   "metadata": {},
   "outputs": [],
   "source": [
    "#Functions for mapping categories with corresponding mean click rate \n",
    "def mapper1(X):\n",
    "    if X not in df_site_id.index:\n",
    "        return df_mean\n",
    "    else:\n",
    "        return df_site_id[df_site_id.index == X].values[0]\n",
    "def mapper2(X):\n",
    "    if X not in df_site_domain.index:\n",
    "        return df_mean\n",
    "    else:\n",
    "        return df_site_domain[df_site_domain.index == X].values[0]\n",
    "def mapper3(X):\n",
    "    if X not in df_app_id.index:\n",
    "        return df_mean\n",
    "    else:\n",
    "        return df_app_id[df_app_id.index == X].values[0]\n",
    "def mapper4(X):\n",
    "    if X not in df_app_domain.index:\n",
    "        return df_mean\n",
    "    else:\n",
    "        return df_app_domain[df_app_domain.index == X].values[0]\n",
    "def mapper5(X):\n",
    "    if X not in df_site_category.index:\n",
    "        return df_mean\n",
    "    else:\n",
    "        return df_site_category[df_site_category.index == X].values[0]\n",
    "def mapper6(X):\n",
    "    if X not in df_app_category.index:\n",
    "        return df_mean\n",
    "    else:\n",
    "        return df_app_category[df_app_category.index == X].values[0]\n",
    "def mapper7(X):\n",
    "    if X not in df_device_model.index:\n",
    "        return df_mean\n",
    "    else:\n",
    "        return df_device_model[df_device_model.index == X].values[0]\n",
    "def mapper8(X):\n",
    "    if X not in df_C14.index:\n",
    "        return df_mean\n",
    "    else:\n",
    "        return df_C14[df_C14.index == X].values[0]\n",
    "def mapper9(X):\n",
    "    if X not in df_C17.index:\n",
    "        return df_mean\n",
    "    else:\n",
    "        return df_C17[df_C17.index == X].values[0]\n",
    "def mapper10(X):\n",
    "    if X not in df_C19.index:\n",
    "        return df_mean\n",
    "    else:\n",
    "        return df_C19[df_C19.index == X].values[0]\n",
    "def mapper11(X):\n",
    "    if X not in df_C20.index:\n",
    "        return df_mean\n",
    "    else:\n",
    "        return df_C20[df_C20.index == X].values[0]\n",
    "def mapper12(X):\n",
    "    if X not in df_C21.index:\n",
    "        return df_mean\n",
    "    else:\n",
    "        return df_C21[df_C21.index == X].values[0]"
   ]
  },
  {
   "cell_type": "code",
   "execution_count": 18,
   "id": "5970bef7",
   "metadata": {},
   "outputs": [],
   "source": [
    "target_list = ['site_id', 'site_domain', 'app_id', 'app_domain', 'site_category',\n",
    "               'app_category', 'device_model', 'C14', 'C17', 'C19', 'C20', 'C21']\n",
    "mapper_list = [mapper1, mapper2, mapper3,mapper4, mapper5, mapper6, \n",
    "               mapper7, mapper8, mapper9, mapper10, mapper11, mapper12]"
   ]
  },
  {
   "cell_type": "code",
   "execution_count": 46,
   "id": "7ad2b8e1",
   "metadata": {},
   "outputs": [
    {
     "name": "stdout",
     "output_type": "stream",
     "text": [
      "site_id\n",
      "site_domain\n",
      "app_id\n",
      "app_domain\n",
      "site_category\n",
      "app_category\n",
      "device_model\n",
      "C14\n",
      "C17\n",
      "C19\n",
      "C20\n",
      "C21\n"
     ]
    }
   ],
   "source": [
    "#Map categories with corresponding mean click rate\n",
    "for col, mapper in zip(target_list, mapper_list):\n",
    "    df[col] = df[col].apply(mapper)\n",
    "    print(col)"
   ]
  },
  {
   "cell_type": "code",
   "execution_count": 20,
   "id": "5ec4e164",
   "metadata": {},
   "outputs": [],
   "source": [
    "df_list = [df_site_id, df_site_domain, df_app_id, df_app_domain, df_site_category,\n",
    "       df_app_category, df_device_model, df_C14, df_C17, df_C19, df_C20, df_C21]"
   ]
  },
  {
   "cell_type": "code",
   "execution_count": 21,
   "id": "46d03661",
   "metadata": {},
   "outputs": [
    {
     "data": {
      "image/png": "[encoded data removed]",
      "text/plain": [
       "<Figure size 432x288 with 12 Axes>"
      ]
     },
     "metadata": {
      "needs_background": "light"
     },
     "output_type": "display_data"
    }
   ],
   "source": [
    "#Check the distribution of mean click rate for each target feature\n",
    "for loc, df_temp in zip(range(12), df_list):\n",
    "    plt.subplot(8, 3, loc+1)\n",
    "    plt.hist(df_temp)\n",
    "plt.show()"
   ]
  },
  {
   "cell_type": "code",
   "execution_count": 22,
   "id": "027492ea",
   "metadata": {},
   "outputs": [],
   "source": [
    "#Function for re-categorize data points by their mean click rates \n",
    "def ranker(rate):\n",
    "    if rate <= df_mean - 0.04:\n",
    "        return \"very low\"\n",
    "    elif rate <= df_mean - 0.02:\n",
    "        return \"low\"\n",
    "    elif rate <= df_mean + 0.02:\n",
    "        return \"middle\"\n",
    "    elif rate <= df_mean + 0.04:\n",
    "        return \"high\"\n",
    "    else:\n",
    "        return \"very high\""
   ]
  },
  {
   "cell_type": "code",
   "execution_count": 47,
   "id": "5967a984",
   "metadata": {},
   "outputs": [],
   "source": [
    "#Re-categorize data points by their mean click rates \n",
    "for col in target_list:\n",
    "    df[col] = df[col].apply(ranker)"
   ]
  },
  {
   "cell_type": "code",
   "execution_count": 38,
   "id": "8790c3e5",
   "metadata": {},
   "outputs": [
    {
     "data": {
      "image/png": "[encoded data removed]",
      "text/plain": [
       "<Figure size 432x288 with 12 Axes>"
      ]
     },
     "metadata": {
      "needs_background": "light"
     },
     "output_type": "display_data"
    }
   ],
   "source": [
    "#Check the distribution of mean click rate for each target feature after re-categorized\n",
    "for loc, features in zip(range(12), target_list):\n",
    "    plt.subplot(8, 3, loc+1)\n",
    "    plt.hist(df[features])\n",
    "plt.show()"
   ]
  },
  {
   "cell_type": "code",
   "execution_count": 48,
   "id": "58a4973a",
   "metadata": {},
   "outputs": [],
   "source": [
    "#Drop features with only one category \n",
    "df.drop(['C14', 'C17', 'C19', 'C20', 'C21'], axis=1, inplace=True)"
   ]
  },
  {
   "cell_type": "code",
   "execution_count": 26,
   "id": "4133e0ca",
   "metadata": {},
   "outputs": [
    {
     "data": {
      "text/html": [
       "<div>\n",
       "<style scoped>\n",
       "    .dataframe tbody tr th:only-of-type {\n",
       "        vertical-align: middle;\n",
       "    }\n",
       "\n",
       "    .dataframe tbody tr th {\n",
       "        vertical-align: top;\n",
       "    }\n",
       "\n",
       "    .dataframe thead th {\n",
       "        text-align: right;\n",
       "    }\n",
       "</style>\n",
       "<table border=\"1\" class=\"dataframe\">\n",
       "  <thead>\n",
       "    <tr style=\"text-align: right;\">\n",
       "      <th></th>\n",
       "      <th>click</th>\n",
       "      <th>hour</th>\n",
       "      <th>C1</th>\n",
       "      <th>banner_pos</th>\n",
       "      <th>site_id</th>\n",
       "      <th>site_domain</th>\n",
       "      <th>site_category</th>\n",
       "      <th>app_id</th>\n",
       "      <th>app_domain</th>\n",
       "      <th>app_category</th>\n",
       "      <th>device_model</th>\n",
       "      <th>device_type</th>\n",
       "      <th>device_conn_type</th>\n",
       "      <th>C15</th>\n",
       "      <th>C16</th>\n",
       "      <th>C18</th>\n",
       "      <th>weekday</th>\n",
       "    </tr>\n",
       "  </thead>\n",
       "  <tbody>\n",
       "    <tr>\n",
       "      <th>19463731</th>\n",
       "      <td>1</td>\n",
       "      <td>18-19</td>\n",
       "      <td>1005</td>\n",
       "      <td>1</td>\n",
       "      <td>very high</td>\n",
       "      <td>very high</td>\n",
       "      <td>very high</td>\n",
       "      <td>high</td>\n",
       "      <td>high</td>\n",
       "      <td>high</td>\n",
       "      <td>middle</td>\n",
       "      <td>1</td>\n",
       "      <td>0</td>\n",
       "      <td>320</td>\n",
       "      <td>50</td>\n",
       "      <td>3</td>\n",
       "      <td>5</td>\n",
       "    </tr>\n",
       "    <tr>\n",
       "      <th>10525449</th>\n",
       "      <td>0</td>\n",
       "      <td>06-07</td>\n",
       "      <td>1005</td>\n",
       "      <td>1</td>\n",
       "      <td>very low</td>\n",
       "      <td>very low</td>\n",
       "      <td>middle</td>\n",
       "      <td>high</td>\n",
       "      <td>high</td>\n",
       "      <td>high</td>\n",
       "      <td>high</td>\n",
       "      <td>1</td>\n",
       "      <td>2</td>\n",
       "      <td>320</td>\n",
       "      <td>50</td>\n",
       "      <td>0</td>\n",
       "      <td>3</td>\n",
       "    </tr>\n",
       "    <tr>\n",
       "      <th>32110328</th>\n",
       "      <td>0</td>\n",
       "      <td>20-21</td>\n",
       "      <td>1005</td>\n",
       "      <td>1</td>\n",
       "      <td>very low</td>\n",
       "      <td>very low</td>\n",
       "      <td>middle</td>\n",
       "      <td>high</td>\n",
       "      <td>high</td>\n",
       "      <td>high</td>\n",
       "      <td>middle</td>\n",
       "      <td>1</td>\n",
       "      <td>0</td>\n",
       "      <td>320</td>\n",
       "      <td>50</td>\n",
       "      <td>1</td>\n",
       "      <td>1</td>\n",
       "    </tr>\n",
       "    <tr>\n",
       "      <th>1984281</th>\n",
       "      <td>0</td>\n",
       "      <td>08-09</td>\n",
       "      <td>1005</td>\n",
       "      <td>0</td>\n",
       "      <td>middle</td>\n",
       "      <td>middle</td>\n",
       "      <td>middle</td>\n",
       "      <td>high</td>\n",
       "      <td>high</td>\n",
       "      <td>high</td>\n",
       "      <td>very low</td>\n",
       "      <td>1</td>\n",
       "      <td>0</td>\n",
       "      <td>320</td>\n",
       "      <td>50</td>\n",
       "      <td>0</td>\n",
       "      <td>1</td>\n",
       "    </tr>\n",
       "    <tr>\n",
       "      <th>1157248</th>\n",
       "      <td>0</td>\n",
       "      <td>04-05</td>\n",
       "      <td>1005</td>\n",
       "      <td>0</td>\n",
       "      <td>very low</td>\n",
       "      <td>very low</td>\n",
       "      <td>very low</td>\n",
       "      <td>very low</td>\n",
       "      <td>low</td>\n",
       "      <td>very low</td>\n",
       "      <td>very high</td>\n",
       "      <td>1</td>\n",
       "      <td>0</td>\n",
       "      <td>320</td>\n",
       "      <td>50</td>\n",
       "      <td>1</td>\n",
       "      <td>1</td>\n",
       "    </tr>\n",
       "  </tbody>\n",
       "</table>\n",
       "</div>"
      ],
      "text/plain": [
       "          click   hour    C1 banner_pos    site_id site_domain site_category  \\\n",
       "19463731      1  18-19  1005          1  very high   very high     very high   \n",
       "10525449      0  06-07  1005          1   very low    very low        middle   \n",
       "32110328      0  20-21  1005          1   very low    very low        middle   \n",
       "1984281       0  08-09  1005          0     middle      middle        middle   \n",
       "1157248       0  04-05  1005          0   very low    very low      very low   \n",
       "\n",
       "            app_id app_domain app_category device_model device_type  \\\n",
       "19463731      high       high         high       middle           1   \n",
       "10525449      high       high         high         high           1   \n",
       "32110328      high       high         high       middle           1   \n",
       "1984281       high       high         high     very low           1   \n",
       "1157248   very low        low     very low    very high           1   \n",
       "\n",
       "         device_conn_type  C15 C16 C18 weekday  \n",
       "19463731                0  320  50   3       5  \n",
       "10525449                2  320  50   0       3  \n",
       "32110328                0  320  50   1       1  \n",
       "1984281                 0  320  50   0       1  \n",
       "1157248                 0  320  50   1       1  "
      ]
     },
     "execution_count": 26,
     "metadata": {},
     "output_type": "execute_result"
    }
   ],
   "source": [
    "#Check the final dataset\n",
    "df.head()"
   ]
  },
  {
   "cell_type": "code",
   "execution_count": 49,
   "id": "237a6c92",
   "metadata": {},
   "outputs": [],
   "source": [
    "df.to_csv(\"df_test_2.csv\", index=False)"
   ]
  }
 ],
 "metadata": {
  "kernelspec": {
   "display_name": "Python 3",
   "language": "python",
   "name": "python3"
  },
  "language_info": {
   "codemirror_mode": {
    "name": "ipython",
    "version": 3
   },
   "file_extension": ".py",
   "mimetype": "text/x-python",
   "name": "python",
   "nbconvert_exporter": "python",
   "pygments_lexer": "ipython3",
   "version": "3.8.8"
  }
 },
 "nbformat": 4,
 "nbformat_minor": 5
}
